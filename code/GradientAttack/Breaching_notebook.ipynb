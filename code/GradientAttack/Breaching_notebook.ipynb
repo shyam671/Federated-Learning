{
 "cells": [
  {
   "cell_type": "markdown",
   "id": "8108126d",
   "metadata": {},
   "source": [
    "## Startup\n"
   ]
  },
  {
   "cell_type": "code",
   "execution_count": null,
   "id": "f6324099",
   "metadata": {},
   "outputs": [],
   "source": [
    "try:\n",
    "    import breaching\n",
    "except ModuleNotFoundError:\n",
    "    import os; os.chdir(\"..\")\n",
    "    import breaching\n",
    "    \n",
    "    \n",
    "import torch\n",
    "%load_ext autoreload\n",
    "%autoreload 2\n",
    "\n",
    "# Redirects logs directly into the jupyter notebook\n",
    "import logging, sys\n",
    "logging.basicConfig(level=logging.INFO, handlers=[logging.StreamHandler(sys.stdout)], format='%(message)s')\n",
    "logger = logging.getLogger()"
   ]
  },
  {
   "cell_type": "markdown",
   "id": "e27324f1",
   "metadata": {},
   "source": [
    "## Initialize cfg object and system setup:\n",
    "\n",
    "This will load the full configuration object. This includes the configuration for the use case and threat model as *cfg.case* and the hyperparameters and implementation of the attack as *cfg.attack*. All parameters can be modified below, or overriden with *overrides=* as if they were cmd-line arguments."
   ]
  },
  {
   "cell_type": "code",
   "execution_count": null,
   "id": "0d566f64",
   "metadata": {},
   "outputs": [],
   "source": [
    "cfg = breaching.get_config(overrides=[\"case=4_fedavg_small_scale\", \"case/data=CIFAR10\"])\n",
    "      \n",
    "device = torch.device(f'cuda:0') if torch.cuda.is_available() else torch.device('cpu')\n",
    "torch.backends.cudnn.benchmark = cfg.case.impl.benchmark\n",
    "setup = dict(device=device, dtype=getattr(torch, cfg.case.impl.dtype))\n",
    "setup"
   ]
  },
  {
   "cell_type": "markdown",
   "id": "fb0c7eec",
   "metadata": {},
   "source": [
    "## Modify config options here\n",
    "\n",
    "Using *.attribute* you can access and modify any of these configurations for the attack, or the case:"
   ]
  },
  {
   "cell_type": "code",
   "execution_count": null,
   "id": "9d2c9c3b",
   "metadata": {},
   "outputs": [],
   "source": [
    "print(f\"cfg experiment: \", cfg.case['name'])\n",
    "print(f\"cfg model: \", cfg.case['model'])\n",
    "print(f\"DATA: \", cfg.case['data']['name'])\n",
    "print(f\"IMPLEMENTATION: \", cfg.case['impl'])\n",
    "print(f\"USER: \", cfg.case['user'])\n",
    "print(f\"SERVER: \", cfg.case['server'])\n",
    "print(f\"ATTACK: \", cfg.attack)"
   ]
  },
  {
   "cell_type": "code",
   "execution_count": null,
   "id": "ac3bdf54",
   "metadata": {},
   "outputs": [],
   "source": [
    "cfg.case.data.partition=\"random\"\n",
    "cfg.case.user.user_idx = 1\n",
    "cfg.case.model ='resnet50'\n",
    "cfg.case.server.pretrained = True\n",
    "cfg.case.user.provide_labels = True\n",
    "# These settings govern the total amount of user data and how it is used over multiple local update steps:\n",
    "cfg.case.user.num_data_points = 1  # Default 4 [n in fedAVG]\n",
    "cfg.case.user.num_local_updates = 5  # Default 4 [E in fedAVG]\n",
    "cfg.case.user.num_data_per_local_update_step = 1  # Default 2 [B in fedAVG]\n",
    "cfg.case.user.local_learning_rate = 1e-4 # Default  1e-3 \n",
    "cfg.case.user.provide_local_hyperparams = True # Default True\n",
    "\n",
    "# Total variation regularization needs to be smaller on CIFAR-10:\n",
    "cfg.attack.regularization.total_variation.scale = 1e-4 # Default 1e-3\n",
    "cfg.attack.optim.max_iterations = 24000 # Default 24000\n",
    "cfg.attack.optim.step_size = 1"
   ]
  },
  {
   "cell_type": "code",
   "execution_count": null,
   "id": "3de065c4",
   "metadata": {},
   "outputs": [],
   "source": [
    "print(f\"cfg model: \", cfg.case['model'])\n",
    "print(f\"ATTACK: \", cfg.attack)\n",
    "print(f\"SERVER: \", cfg.case['server'])\n",
    "print(f\"USER: \", cfg.case['user'])"
   ]
  },
  {
   "cell_type": "markdown",
   "id": "741140ac",
   "metadata": {},
   "source": [
    "## Instantiate all parties\n",
    "\n",
    "The following lines generate \"server, \"user\" and \"attacker\" objects and print an overview of their configurations."
   ]
  },
  {
   "cell_type": "code",
   "execution_count": null,
   "id": "b931364f",
   "metadata": {},
   "outputs": [],
   "source": [
    "user, server, model, loss_fn = breaching.cases.construct_case(cfg.case, setup)\n",
    "attacker = breaching.attacks.prepare_attack(server.model, server.loss, cfg.attack, setup)\n",
    "breaching.utils.overview(server, user, attacker)"
   ]
  },
  {
   "cell_type": "markdown",
   "id": "a27aa846",
   "metadata": {},
   "source": [
    "## Simulate an attacked FL protocol\n",
    "\n",
    "This exchange is a simulation of a single query in a federated learning protocol. The server sends out a **server_payload** and the user computes an update based on their private local data. This user update is **shared_data** and contains, for example, the parameter gradient of the model in the simplest case. **true_user_data** is also returned by *.compute_local_updates*, but of course not forwarded to the server or attacker and only used for the analysis."
   ]
  },
  {
   "cell_type": "code",
   "execution_count": null,
   "id": "846d671d",
   "metadata": {},
   "outputs": [],
   "source": [
    "server_payload = server.distribute_payload()\n",
    "shared_data, true_user_data = user.compute_local_updates(server_payload)"
   ]
  },
  {
   "cell_type": "markdown",
   "id": "841f069a",
   "metadata": {},
   "source": [
    "## Reconstruct user data\n",
    "\n",
    "Now we launch the attack, reconstructing user data based on only the **server_payload** and **the shared_data**.\n"
   ]
  },
  {
   "cell_type": "code",
   "execution_count": null,
   "id": "af7bbb2a",
   "metadata": {
    "scrolled": true
   },
   "outputs": [],
   "source": [
    "reconstructed_user_data, stats = attacker.reconstruct([server_payload], [shared_data], {}, dryrun=cfg.dryrun)"
   ]
  },
  {
   "cell_type": "markdown",
   "id": "f6df8c38",
   "metadata": {},
   "source": [
    "Next we'll evaluate metrics, comparing the *reconstructed_user_data* to the *true_user_data*."
   ]
  },
  {
   "cell_type": "code",
   "execution_count": null,
   "id": "200298ca",
   "metadata": {},
   "outputs": [],
   "source": [
    "metrics = breaching.analysis.report(reconstructed_user_data, true_user_data, [server_payload], \n",
    "                                    server.model, order_batch=True, compute_full_iip=False, \n",
    "                                    cfg_case=cfg.case, setup=setup)"
   ]
  },
  {
   "cell_type": "markdown",
   "id": "73bc0170",
   "metadata": {},
   "source": [
    "And finally, we also plot both the reconstructed data and original data:"
   ]
  },
  {
   "cell_type": "code",
   "execution_count": null,
   "id": "c8268016",
   "metadata": {},
   "outputs": [],
   "source": [
    "# The function user.plot doesn't work properly unless you make that correction\n",
    "import os\n",
    "os.environ[\"KMP_DUPLICATE_LIB_OK\"]=\"TRUE\""
   ]
  },
  {
   "cell_type": "code",
   "execution_count": null,
   "id": "9c07a426",
   "metadata": {
    "scrolled": true
   },
   "outputs": [],
   "source": [
    "user.plot(true_user_data,  print_labels=True, scale=True)"
   ]
  },
  {
   "cell_type": "code",
   "execution_count": null,
   "id": "75fe1c13",
   "metadata": {
    "scrolled": true
   },
   "outputs": [],
   "source": [
    "user.plot(reconstructed_user_data,print_labels=True, scale=True)"
   ]
  },
  {
   "cell_type": "code",
   "execution_count": null,
   "id": "6f6b2f7b",
   "metadata": {},
   "outputs": [],
   "source": []
  }
 ],
 "metadata": {
  "kernelspec": {
   "display_name": "Python 3",
   "language": "python",
   "name": "python3"
  },
  "language_info": {
   "codemirror_mode": {
    "name": "ipython",
    "version": 3
   },
   "file_extension": ".py",
   "mimetype": "text/x-python",
   "name": "python",
   "nbconvert_exporter": "python",
   "pygments_lexer": "ipython3",
   "version": "3.8.13"
  }
 },
 "nbformat": 4,
 "nbformat_minor": 5
}
