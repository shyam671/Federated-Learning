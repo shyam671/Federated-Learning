{
 "cells": [
  {
   "cell_type": "markdown",
   "id": "8108126d",
   "metadata": {},
   "source": [
    "## Startup\n"
   ]
  },
  {
   "cell_type": "code",
   "execution_count": 2,
   "id": "f6324099",
   "metadata": {},
   "outputs": [],
   "source": [
    "try:\n",
    "    import breaching\n",
    "except ModuleNotFoundError:\n",
    "    # You only really need this safety net if you want to run these notebooks directly in the examples directory\n",
    "    # Don't worry about this if you installed the package or moved the notebook to the main directory.\n",
    "    import os; os.chdir(\"..\")\n",
    "    import breaching\n",
    "    \n",
    "    \n",
    "import torch\n",
    "%load_ext autoreload\n",
    "%autoreload 2\n",
    "\n",
    "# Redirects logs directly into the jupyter notebook\n",
    "import logging, sys\n",
    "logging.basicConfig(level=logging.INFO, handlers=[logging.StreamHandler(sys.stdout)], format='%(message)s')\n",
    "logger = logging.getLogger()"
   ]
  },
  {
   "cell_type": "markdown",
   "id": "e27324f1",
   "metadata": {},
   "source": [
    "## Initialize cfg object and system setup:\n",
    "\n",
    "This will load the full configuration object. This includes the configuration for the use case and threat model as *cfg.case* and the hyperparameters and implementation of the attack as *cfg.attack*. All parameters can be modified below, or overriden with *overrides=* as if they were cmd-line arguments."
   ]
  },
  {
   "cell_type": "code",
   "execution_count": 3,
   "id": "0d566f64",
   "metadata": {},
   "outputs": [
    {
     "name": "stderr",
     "output_type": "stream",
     "text": [
      "C:\\Users\\asdas\\anaconda3\\envs\\venv\\lib\\site-packages\\breaching\\__init__.py:18: UserWarning: \n",
      "The version_base parameter is not specified.\n",
      "Please specify a compatability version level, or None.\n",
      "Will assume defaults for version 1.1\n",
      "  with hydra.initialize(config_path=\"config\"):\n"
     ]
    },
    {
     "name": "stdout",
     "output_type": "stream",
     "text": [
      "Investigating use case fedavg_small_scale with server type honest_but_curious.\n"
     ]
    },
    {
     "data": {
      "text/plain": [
       "{'device': device(type='cuda', index=0), 'dtype': torch.float32}"
      ]
     },
     "execution_count": 3,
     "metadata": {},
     "output_type": "execute_result"
    }
   ],
   "source": [
    "cfg = breaching.get_config(overrides=[\"case=4_fedavg_small_scale\", \"case/data=CIFAR10\"])\n",
    "      \n",
    "device = torch.device(f'cuda:0') if torch.cuda.is_available() else torch.device('cpu')\n",
    "torch.backends.cudnn.benchmark = cfg.case.impl.benchmark\n",
    "setup = dict(device=device, dtype=getattr(torch, cfg.case.impl.dtype))\n",
    "setup"
   ]
  },
  {
   "cell_type": "markdown",
   "id": "fb0c7eec",
   "metadata": {},
   "source": [
    "## Modify config options here\n",
    "\n",
    "Using *.attribute* you can access and modify any of these configurations for the attack, or the case:"
   ]
  },
  {
   "cell_type": "code",
   "execution_count": 4,
   "id": "9d2c9c3b",
   "metadata": {},
   "outputs": [
    {
     "name": "stdout",
     "output_type": "stream",
     "text": [
      "cfg experiment:  fedavg_small_scale\n",
      "cfg model:  ResNet18\n",
      "DATA:  CIFAR10\n",
      "IMPLEMENTATION:  {'shuffle': False, 'sample_with_replacement': False, 'dtype': 'float', 'non_blocking': True, 'sharing_strategy': 'file_descriptor', 'benchmark': True, 'deterministic': False, 'pin_memory': True, 'threads': 0, 'persistent_workers': False, 'mixed_precision': False, 'grad_scaling': True, 'JIT': None, 'validate_every_nth_step': 10, 'checkpoint': {'name': None, 'save_every_nth_step': 10}, 'enable_huggingface_offline_mode': False}\n",
      "USER:  {'user_type': 'local_update', 'user_idx': 0, 'num_data_points': 4, 'provide_buffers': False, 'provide_labels': False, 'provide_num_data_points': True, 'local_diff_privacy': {'gradient_noise': 0.0, 'input_noise': 0.0, 'distribution': 'laplacian', 'per_example_clipping': 0.0}, 'num_local_updates': 4, 'num_data_per_local_update_step': 1, 'local_learning_rate': 0.001, 'provide_local_hyperparams': True}\n",
      "SERVER:  {'name': 'honest_but_curious', 'pretrained': True, 'model_state': 'default', 'provide_public_buffers': True, 'has_external_data': False, 'num_queries': 1}\n",
      "ATTACK:  {'type': 'invertinggradients', 'attack_type': 'optimization', 'label_strategy': 'bias-corrected', 'text_strategy': 'run-embedding', 'token_recovery': 'from-labels', 'objective': {'type': 'cosine-similarity', 'scale': 1.0, 'task_regularization': 0.0}, 'restarts': {'num_trials': 1, 'scoring': 'cosine-similarity'}, 'init': 'randn', 'normalize_gradients': False, 'optim': {'optimizer': 'adam', 'signed': 'hard', 'step_size': 0.1, 'boxed': True, 'max_iterations': 24000, 'step_size_decay': 'step-lr', 'langevin_noise': 0.0, 'warmup': 0, 'grad_clip': None, 'callback': 1000}, 'augmentations': None, 'differentiable_augmentations': False, 'regularization': {'total_variation': {'scale': 0.2, 'inner_exp': 1, 'outer_exp': 1}}, 'impl': {'dtype': 'float', 'mixed_precision': False, 'JIT': None}}\n"
     ]
    }
   ],
   "source": [
    "print(f\"cfg experiment: \", cfg.case['name'])\n",
    "print(f\"cfg model: \", cfg.case['model'])\n",
    "print(f\"DATA: \", cfg.case['data']['name'])\n",
    "print(f\"IMPLEMENTATION: \", cfg.case['impl'])\n",
    "print(f\"USER: \", cfg.case['user'])\n",
    "print(f\"SERVER: \", cfg.case['server'])\n",
    "print(f\"ATTACK: \", cfg.attack)"
   ]
  },
  {
   "cell_type": "code",
   "execution_count": 5,
   "id": "ac3bdf54",
   "metadata": {},
   "outputs": [],
   "source": [
    "cfg.case.data.partition=\"random\"\n",
    "cfg.case.user.user_idx = 1\n",
    "cfg.case.model ='resnet18'\n",
    "cfg.case.server.pretrained = True\n",
    "cfg.case.user.provide_labels = True\n",
    "# These settings govern the total amount of user data and how it is used over multiple local update steps:\n",
    "cfg.case.user.num_data_points = 1  # Default 4 [n in fedAVG]\n",
    "cfg.case.user.num_local_updates = 1  # Default 4 [E in fedAVG]\n",
    "cfg.case.user.num_data_per_local_update_step = 1  # Default 2 [B in fedAVG]\n",
    "cfg.case.user.local_learning_rate = 1e-4 # Default  1e-3 \n",
    "cfg.case.user.provide_local_hyperparams = True # Default True\n",
    "\n",
    "# Total variation regularization needs to be smaller on CIFAR-10:\n",
    "cfg.attack.regularization.total_variation.scale = 1e-4 # Default 1e-3\n",
    "cfg.attack.optim.max_iterations = 10000 # Default 24000\n",
    "cfg.attack.optim.step_size = 1"
   ]
  },
  {
   "cell_type": "code",
   "execution_count": 6,
   "id": "3de065c4",
   "metadata": {},
   "outputs": [
    {
     "name": "stdout",
     "output_type": "stream",
     "text": [
      "cfg model:  resnet18\n",
      "ATTACK:  {'type': 'invertinggradients', 'attack_type': 'optimization', 'label_strategy': 'bias-corrected', 'text_strategy': 'run-embedding', 'token_recovery': 'from-labels', 'objective': {'type': 'cosine-similarity', 'scale': 1.0, 'task_regularization': 0.0}, 'restarts': {'num_trials': 1, 'scoring': 'cosine-similarity'}, 'init': 'randn', 'normalize_gradients': False, 'optim': {'optimizer': 'adam', 'signed': 'hard', 'step_size': 1, 'boxed': True, 'max_iterations': 10000, 'step_size_decay': 'step-lr', 'langevin_noise': 0.0, 'warmup': 0, 'grad_clip': None, 'callback': 1000}, 'augmentations': None, 'differentiable_augmentations': False, 'regularization': {'total_variation': {'scale': 0.0001, 'inner_exp': 1, 'outer_exp': 1}}, 'impl': {'dtype': 'float', 'mixed_precision': False, 'JIT': None}}\n",
      "SERVER:  {'name': 'honest_but_curious', 'pretrained': True, 'model_state': 'default', 'provide_public_buffers': True, 'has_external_data': False, 'num_queries': 1}\n",
      "USER:  {'user_type': 'local_update', 'user_idx': 1, 'num_data_points': 1, 'provide_buffers': False, 'provide_labels': True, 'provide_num_data_points': True, 'local_diff_privacy': {'gradient_noise': 0.0, 'input_noise': 0.0, 'distribution': 'laplacian', 'per_example_clipping': 0.0}, 'num_local_updates': 1, 'num_data_per_local_update_step': 1, 'local_learning_rate': 0.0001, 'provide_local_hyperparams': True}\n"
     ]
    }
   ],
   "source": [
    "print(f\"cfg model: \", cfg.case['model'])\n",
    "print(f\"ATTACK: \", cfg.attack)\n",
    "print(f\"SERVER: \", cfg.case['server'])\n",
    "print(f\"USER: \", cfg.case['user'])"
   ]
  },
  {
   "cell_type": "markdown",
   "id": "741140ac",
   "metadata": {},
   "source": [
    "## Instantiate all parties\n",
    "\n",
    "The following lines generate \"server, \"user\" and \"attacker\" objects and print an overview of their configurations."
   ]
  },
  {
   "cell_type": "code",
   "execution_count": 7,
   "id": "b931364f",
   "metadata": {},
   "outputs": [
    {
     "name": "stdout",
     "output_type": "stream",
     "text": [
      "Files already downloaded and verified\n",
      "Model architecture resnet18 loaded with 11,173,962 parameters and 0 buffers.\n",
      "Overall this is a data ratio of    3637:1 for target shape [1, 3, 32, 32] given that num_queries=1.\n",
      "User (of type UserMultiStep) with settings:\n",
      "    Number of data points: 1\n",
      "\n",
      "    Threat model:\n",
      "    User provides labels: True\n",
      "    User provides buffers: False\n",
      "    User provides number of data points: True\n",
      "\n",
      "    Data:\n",
      "    Dataset: CIFAR10\n",
      "    user: 1\n",
      "    \n",
      "        \n",
      "    Local FL Setup:\n",
      "        Number of local update steps: 1\n",
      "        Data per local update step: 1\n",
      "        Local learning rate: 0.0001\n",
      "\n",
      "        Threat model:\n",
      "        Share these hyperparams to server: True\n",
      "\n",
      "        \n",
      "Server (of type HonestServer) with settings:\n",
      "    Threat model: Honest-but-curious\n",
      "    Number of planned queries: 1\n",
      "    Has external/public data: False\n",
      "\n",
      "    Model:\n",
      "        model specification: resnet18\n",
      "        model state: default\n",
      "        \n",
      "\n",
      "    Secrets: {}\n",
      "    \n",
      "Attacker (of type OptimizationBasedAttacker) with settings:\n",
      "    Hyperparameter Template: invertinggradients\n",
      "\n",
      "    Objective: Cosine Similarity with scale=1.0 and task reg=0.0\n",
      "    Regularizers: Total Variation, scale=0.0001. p=1 q=1. \n",
      "    Augmentations: \n",
      "\n",
      "    Optimization Setup:\n",
      "        optimizer: adam\n",
      "        signed: hard\n",
      "        step_size: 1\n",
      "        boxed: True\n",
      "        max_iterations: 10000\n",
      "        step_size_decay: step-lr\n",
      "        langevin_noise: 0.0\n",
      "        warmup: 0\n",
      "        grad_clip: None\n",
      "        callback: 1000\n",
      "        \n"
     ]
    }
   ],
   "source": [
    "user, server, model, loss_fn = breaching.cases.construct_case(cfg.case, setup)\n",
    "attacker = breaching.attacks.prepare_attack(server.model, server.loss, cfg.attack, setup)\n",
    "breaching.utils.overview(server, user, attacker)"
   ]
  },
  {
   "cell_type": "code",
   "execution_count": 8,
   "id": "b4a399c2",
   "metadata": {},
   "outputs": [
    {
     "name": "stdout",
     "output_type": "stream",
     "text": [
      "VisionContainer(\n",
      "  (model): ResNet(\n",
      "    (stem): Sequential(\n",
      "      (0): Conv2d(3, 64, kernel_size=(3, 3), stride=(1, 1), padding=(1, 1), bias=False)\n",
      "      (1): GroupNorm(2, 64, eps=1e-05, affine=True)\n",
      "      (2): ReLU(inplace=True)\n",
      "    )\n",
      "    (layers): Sequential(\n",
      "      (0): Sequential(\n",
      "        (0): BasicBlock(\n",
      "          (conv1): Conv2d(64, 64, kernel_size=(3, 3), stride=(1, 1), padding=(1, 1), bias=False)\n",
      "          (bn1): GroupNorm(2, 64, eps=1e-05, affine=True)\n",
      "          (nonlin): ReLU(inplace=True)\n",
      "          (conv2): Conv2d(64, 64, kernel_size=(3, 3), stride=(1, 1), padding=(1, 1), bias=False)\n",
      "          (bn2): GroupNorm(2, 64, eps=1e-05, affine=True)\n",
      "        )\n",
      "        (1): BasicBlock(\n",
      "          (conv1): Conv2d(64, 64, kernel_size=(3, 3), stride=(1, 1), padding=(1, 1), bias=False)\n",
      "          (bn1): GroupNorm(2, 64, eps=1e-05, affine=True)\n",
      "          (nonlin): ReLU(inplace=True)\n",
      "          (conv2): Conv2d(64, 64, kernel_size=(3, 3), stride=(1, 1), padding=(1, 1), bias=False)\n",
      "          (bn2): GroupNorm(2, 64, eps=1e-05, affine=True)\n",
      "        )\n",
      "      )\n",
      "      (1): Sequential(\n",
      "        (0): BasicBlock(\n",
      "          (conv1): Conv2d(64, 128, kernel_size=(3, 3), stride=(2, 2), padding=(1, 1), bias=False)\n",
      "          (bn1): GroupNorm(2, 128, eps=1e-05, affine=True)\n",
      "          (nonlin): ReLU(inplace=True)\n",
      "          (conv2): Conv2d(128, 128, kernel_size=(3, 3), stride=(1, 1), padding=(1, 1), bias=False)\n",
      "          (bn2): GroupNorm(2, 128, eps=1e-05, affine=True)\n",
      "          (downsample): Sequential(\n",
      "            (0): Conv2d(64, 128, kernel_size=(1, 1), stride=(2, 2), bias=False)\n",
      "            (1): GroupNorm(2, 128, eps=1e-05, affine=True)\n",
      "          )\n",
      "        )\n",
      "        (1): BasicBlock(\n",
      "          (conv1): Conv2d(128, 128, kernel_size=(3, 3), stride=(1, 1), padding=(1, 1), bias=False)\n",
      "          (bn1): GroupNorm(2, 128, eps=1e-05, affine=True)\n",
      "          (nonlin): ReLU(inplace=True)\n",
      "          (conv2): Conv2d(128, 128, kernel_size=(3, 3), stride=(1, 1), padding=(1, 1), bias=False)\n",
      "          (bn2): GroupNorm(2, 128, eps=1e-05, affine=True)\n",
      "        )\n",
      "      )\n",
      "      (2): Sequential(\n",
      "        (0): BasicBlock(\n",
      "          (conv1): Conv2d(128, 256, kernel_size=(3, 3), stride=(2, 2), padding=(1, 1), bias=False)\n",
      "          (bn1): GroupNorm(2, 256, eps=1e-05, affine=True)\n",
      "          (nonlin): ReLU(inplace=True)\n",
      "          (conv2): Conv2d(256, 256, kernel_size=(3, 3), stride=(1, 1), padding=(1, 1), bias=False)\n",
      "          (bn2): GroupNorm(2, 256, eps=1e-05, affine=True)\n",
      "          (downsample): Sequential(\n",
      "            (0): Conv2d(128, 256, kernel_size=(1, 1), stride=(2, 2), bias=False)\n",
      "            (1): GroupNorm(2, 256, eps=1e-05, affine=True)\n",
      "          )\n",
      "        )\n",
      "        (1): BasicBlock(\n",
      "          (conv1): Conv2d(256, 256, kernel_size=(3, 3), stride=(1, 1), padding=(1, 1), bias=False)\n",
      "          (bn1): GroupNorm(2, 256, eps=1e-05, affine=True)\n",
      "          (nonlin): ReLU(inplace=True)\n",
      "          (conv2): Conv2d(256, 256, kernel_size=(3, 3), stride=(1, 1), padding=(1, 1), bias=False)\n",
      "          (bn2): GroupNorm(2, 256, eps=1e-05, affine=True)\n",
      "        )\n",
      "      )\n",
      "      (3): Sequential(\n",
      "        (0): BasicBlock(\n",
      "          (conv1): Conv2d(256, 512, kernel_size=(3, 3), stride=(2, 2), padding=(1, 1), bias=False)\n",
      "          (bn1): GroupNorm(2, 512, eps=1e-05, affine=True)\n",
      "          (nonlin): ReLU(inplace=True)\n",
      "          (conv2): Conv2d(512, 512, kernel_size=(3, 3), stride=(1, 1), padding=(1, 1), bias=False)\n",
      "          (bn2): GroupNorm(2, 512, eps=1e-05, affine=True)\n",
      "          (downsample): Sequential(\n",
      "            (0): Conv2d(256, 512, kernel_size=(1, 1), stride=(2, 2), bias=False)\n",
      "            (1): GroupNorm(2, 512, eps=1e-05, affine=True)\n",
      "          )\n",
      "        )\n",
      "        (1): BasicBlock(\n",
      "          (conv1): Conv2d(512, 512, kernel_size=(3, 3), stride=(1, 1), padding=(1, 1), bias=False)\n",
      "          (bn1): GroupNorm(2, 512, eps=1e-05, affine=True)\n",
      "          (nonlin): ReLU(inplace=True)\n",
      "          (conv2): Conv2d(512, 512, kernel_size=(3, 3), stride=(1, 1), padding=(1, 1), bias=False)\n",
      "          (bn2): GroupNorm(2, 512, eps=1e-05, affine=True)\n",
      "        )\n",
      "      )\n",
      "    )\n",
      "    (avgpool): AdaptiveAvgPool2d(output_size=(1, 1))\n",
      "    (linear): Linear(in_features=512, out_features=10, bias=True)\n",
      "  )\n",
      ")\n"
     ]
    }
   ],
   "source": [
    "print(model)"
   ]
  },
  {
   "cell_type": "markdown",
   "id": "a27aa846",
   "metadata": {},
   "source": [
    "## Simulate an attacked FL protocol\n",
    "\n",
    "This exchange is a simulation of a single query in a federated learning protocol. The server sends out a **server_payload** and the user computes an update based on their private local data. This user update is **shared_data** and contains, for example, the parameter gradient of the model in the simplest case. **true_user_data** is also returned by *.compute_local_updates*, but of course not forwarded to the server or attacker and only used for the analysis."
   ]
  },
  {
   "cell_type": "code",
   "execution_count": 9,
   "id": "846d671d",
   "metadata": {},
   "outputs": [
    {
     "name": "stdout",
     "output_type": "stream",
     "text": [
      "Computing user update on user 1 in model mode: eval.\n"
     ]
    }
   ],
   "source": [
    "server_payload = server.distribute_payload()\n",
    "shared_data, true_user_data = user.compute_local_updates(server_payload)"
   ]
  },
  {
   "cell_type": "markdown",
   "id": "841f069a",
   "metadata": {},
   "source": [
    "## Reconstruct user data\n",
    "\n",
    "Now we launch the attack, reconstructing user data based on only the **server_payload** and **the shared_data**.\n",
    "\n",
    "You can interrupt the computation early to see a partial solution."
   ]
  },
  {
   "cell_type": "code",
   "execution_count": 10,
   "id": "af7bbb2a",
   "metadata": {
    "scrolled": true
   },
   "outputs": [
    {
     "name": "stdout",
     "output_type": "stream",
     "text": [
      "| It: 1 | Rec. loss: 0.0861 |  Task loss: 2.4151 | T: 0.29s\n",
      "| It: 1001 | Rec. loss: 0.0355 |  Task loss: 2.4145 | T: 91.13s\n",
      "| It: 2001 | Rec. loss: 0.0340 |  Task loss: 2.3198 | T: 82.12s\n",
      "| It: 3001 | Rec. loss: 0.0341 |  Task loss: 2.3792 | T: 82.24s\n",
      "| It: 4001 | Rec. loss: 0.0171 |  Task loss: 2.3031 | T: 80.84s\n",
      "| It: 5001 | Rec. loss: 0.0162 |  Task loss: 2.3353 | T: 85.15s\n",
      "| It: 6001 | Rec. loss: 0.0172 |  Task loss: 2.3436 | T: 89.16s\n",
      "| It: 7001 | Rec. loss: 0.0094 |  Task loss: 2.3018 | T: 88.64s\n",
      "| It: 8001 | Rec. loss: 0.0095 |  Task loss: 2.3272 | T: 88.69s\n",
      "| It: 9001 | Rec. loss: 0.0070 |  Task loss: 2.2921 | T: 88.03s\n",
      "| It: 10000 | Rec. loss: 0.0073 |  Task loss: 2.3089 | T: 88.61s\n",
      "Optimal candidate solution with rec. loss 0.0067 selected.\n"
     ]
    }
   ],
   "source": [
    "reconstructed_user_data, stats = attacker.reconstruct([server_payload], [shared_data], {}, dryrun=cfg.dryrun)"
   ]
  },
  {
   "cell_type": "markdown",
   "id": "f6df8c38",
   "metadata": {},
   "source": [
    "Next we'll evaluate metrics, comparing the *reconstructed_user_data* to the *true_user_data*."
   ]
  },
  {
   "cell_type": "code",
   "execution_count": 11,
   "id": "200298ca",
   "metadata": {
    "scrolled": true
   },
   "outputs": [
    {
     "name": "stderr",
     "output_type": "stream",
     "text": [
      "C:\\Users\\asdas\\anaconda3\\envs\\venv\\lib\\site-packages\\breaching\\analysis\\metrics.py:24: UserWarning: To utilize wavelet SSIM, install pytorch wavelets from https://github.com/fbcotter/pytorch_wavelets.\n",
      "  warnings.warn(\n"
     ]
    },
    {
     "name": "stdout",
     "output_type": "stream",
     "text": [
      "Files already downloaded and verified\n",
      "METRICS: | MSE: 0.0013 | PSNR: 28.77 | FMSE: 1.0227e-04 | LPIPS: 0.00|\n",
      " R-PSNR: 28.77 | IIP-pixel: 100.00% | SSIM: nan | max R-PSNR: 28.77 | max SSIM: nan | Label Acc: 100.00%\n"
     ]
    }
   ],
   "source": [
    "metrics = breaching.analysis.report(reconstructed_user_data, true_user_data, [server_payload], \n",
    "                                    server.model, order_batch=True, compute_full_iip=False, \n",
    "                                    cfg_case=cfg.case, setup=setup)"
   ]
  },
  {
   "cell_type": "markdown",
   "id": "73bc0170",
   "metadata": {},
   "source": [
    "And finally, we also plot both the reconstructed data and original data:"
   ]
  },
  {
   "cell_type": "code",
   "execution_count": 12,
   "id": "c8268016",
   "metadata": {},
   "outputs": [],
   "source": [
    "# The function user.plot doesn't work properly unless you make that correction\n",
    "import os\n",
    "os.environ[\"KMP_DUPLICATE_LIB_OK\"]=\"TRUE\""
   ]
  },
  {
   "cell_type": "code",
   "execution_count": 13,
   "id": "9c07a426",
   "metadata": {
    "scrolled": true
   },
   "outputs": [
    {
     "data": {
      "image/png": "[encoded data removed]",
      "text/plain": [
       "<Figure size 432x288 with 1 Axes>"
      ]
     },
     "metadata": {
      "needs_background": "light"
     },
     "output_type": "display_data"
    }
   ],
   "source": [
    "user.plot(true_user_data,  print_labels=True, scale=True)"
   ]
  },
  {
   "cell_type": "code",
   "execution_count": 14,
   "id": "75fe1c13",
   "metadata": {
    "scrolled": true
   },
   "outputs": [
    {
     "data": {
      "image/png": "[encoded data removed]",
      "text/plain": [
       "<Figure size 432x288 with 1 Axes>"
      ]
     },
     "metadata": {
      "needs_background": "light"
     },
     "output_type": "display_data"
    }
   ],
   "source": [
    "user.plot(reconstructed_user_data,print_labels=True, scale=True)"
   ]
  }
 ],
 "metadata": {
  "kernelspec": {
   "display_name": "Python 3",
   "language": "python",
   "name": "python3"
  },
  "language_info": {
   "codemirror_mode": {
    "name": "ipython",
    "version": 3
   },
   "file_extension": ".py",
   "mimetype": "text/x-python",
   "name": "python",
   "nbconvert_exporter": "python",
   "pygments_lexer": "ipython3",
   "version": "3.8.13"
  }
 },
 "nbformat": 4,
 "nbformat_minor": 5
}
